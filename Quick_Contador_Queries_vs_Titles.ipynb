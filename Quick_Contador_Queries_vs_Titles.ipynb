{
  "nbformat": 4,
  "nbformat_minor": 0,
  "metadata": {
    "colab": {
      "name": "Quick - Contador Queries vs Titles",
      "provenance": [],
      "include_colab_link": true
    },
    "kernelspec": {
      "name": "python3",
      "display_name": "Python 3"
    },
    "language_info": {
      "name": "python"
    }
  },
  "cells": [
    {
      "cell_type": "markdown",
      "metadata": {
        "id": "view-in-github",
        "colab_type": "text"
      },
      "source": [
        "<a href=\"https://colab.research.google.com/github/jorgejaramillo/PythonSEO/blob/master/Quick_Contador_Queries_vs_Titles.ipynb\" target=\"_parent\"><img src=\"https://colab.research.google.com/assets/colab-badge.svg\" alt=\"Open In Colab\"/></a>"
      ]
    },
    {
      "cell_type": "markdown",
      "metadata": {
        "id": "g7GNchgUPLYP"
      },
      "source": [
        "\n",
        "\n",
        "\n",
        "\n",
        "### Resources\n",
        "You can find example CSV files in the sheet: https://docs.google.com/spreadsheets/d/18e5Xd1l2dHojd91L7e1saY0xGufsIdhPUYe8yDL88Ag/edit?usp=sharing\n"
      ]
    },
    {
      "cell_type": "markdown",
      "metadata": {
        "id": "8SbDsKU-az6s"
      },
      "source": [
        "Créditos: Michael Van Den Reym [Video](https://https://www.youtube.com/watch?v=2gYiWmvBhXE)\n",
        "\n",
        "\n",
        "Adaptación: Jorge Jaramillo ([jorgejaramillo.com](https://jorgejaramillo.com))"
      ]
    },
    {
      "cell_type": "markdown",
      "metadata": {
        "id": "XuDOQr49gX2U"
      },
      "source": [
        "### Step 0: Language settings"
      ]
    },
    {
      "cell_type": "code",
      "metadata": {
        "id": "EyvSC6yGPOhg"
      },
      "source": [
        "langcode=\"es\" #@param {type:\"string\"}\n",
        "language=\"spanish\" #@param {type:\"string\"}"
      ],
      "execution_count": 2,
      "outputs": []
    },
    {
      "cell_type": "markdown",
      "metadata": {
        "id": "Ef3LDQ4dJEa8"
      },
      "source": [
        "### Step 1 : Import modules"
      ]
    },
    {
      "cell_type": "code",
      "metadata": {
        "id": "YfTeNtn0LDsP"
      },
      "source": [
        "!pip install stop_words\n",
        "!pip install python-levenshtein"
      ],
      "execution_count": null,
      "outputs": []
    },
    {
      "cell_type": "code",
      "metadata": {
        "id": "ERk4sK-dG-E3",
        "colab": {
          "base_uri": "https://localhost:8080/"
        },
        "outputId": "fd7c1e34-db02-4178-ca16-f6717f97bcf8"
      },
      "source": [
        "#Importamos módulos\n",
        "import pandas as pd \n",
        "#input/output modules for uploading and downloading files\n",
        "from google.colab import auth\n",
        "import gspread\n",
        "from oauth2client.client import GoogleCredentials\n",
        "auth.authenticate_user()\n",
        "import io\n",
        "#install nlp modules not yet available in colab\n",
        "import re #NLP regex module\n",
        "import nltk #general NLP module\n",
        "from nltk.stem.snowball import SnowballStemmer #NLP stemming module\n",
        "from Levenshtein import * #NLP distance caluclator\n",
        "from stop_words import get_stop_words #stop words NLP library\n",
        "nltk.download('punkt') #tokenizer NLP \n",
        "nltk.download('stopwords')"
      ],
      "execution_count": 4,
      "outputs": [
        {
          "output_type": "stream",
          "text": [
            "[nltk_data] Downloading package punkt to /root/nltk_data...\n",
            "[nltk_data]   Unzipping tokenizers/punkt.zip.\n",
            "[nltk_data] Downloading package stopwords to /root/nltk_data...\n",
            "[nltk_data]   Unzipping corpora/stopwords.zip.\n"
          ],
          "name": "stdout"
        },
        {
          "output_type": "execute_result",
          "data": {
            "text/plain": [
              "True"
            ]
          },
          "metadata": {
            "tags": []
          },
          "execution_count": 4
        }
      ]
    },
    {
      "cell_type": "markdown",
      "metadata": {
        "id": "i6One85lJHUl"
      },
      "source": [
        "### Step 2 : Upload the page title file"
      ]
    },
    {
      "cell_type": "code",
      "metadata": {
        "id": "OpKBm2qrGvmL"
      },
      "source": [
        "#Step 2: Usamos el id del Spreadsheet idArchivoTitles\n",
        "\n",
        "gc = gspread.authorize(GoogleCredentials.get_application_default())\n",
        "idArchivoTitles = 'ID'\n",
        "worksheet = gc.open_by_key(idArchivoTitles).sheet1\n",
        "external_stylesheets = ['https://codepen.io/chriddyp/pen/bWLwgP.css']\n",
        "dftitles = pd.DataFrame(worksheet.get_all_records())\n",
        "dftitles.columns=[\"Page\",\"Title\"]\n",
        "dftitles.head()"
      ],
      "execution_count": null,
      "outputs": []
    },
    {
      "cell_type": "markdown",
      "metadata": {
        "id": "CeRsYqv-JOgP"
      },
      "source": [
        "### Step 3: Upload second CSV file: the search queries by page "
      ]
    },
    {
      "cell_type": "code",
      "metadata": {
        "id": "viH3L4GBG0RC"
      },
      "source": [
        "#Step 3: Usamos el id del Spreadsheet idArchivoQueries\n",
        "\n",
        "gc = gspread.authorize(GoogleCredentials.get_application_default())\n",
        "idArchivoQueries = 'ID'\n",
        "worksheet = gc.open_by_key(idArchivoQueries).sheet1\n",
        "external_stylesheets = ['https://codepen.io/chriddyp/pen/bWLwgP.css']\n",
        "dfqueries = pd.DataFrame(worksheet.get_all_records())\n",
        "dfqueries.columns=[\"Query\",\"Page\"]\n",
        "dfqueries.head()"
      ],
      "execution_count": null,
      "outputs": []
    },
    {
      "cell_type": "markdown",
      "metadata": {
        "id": "k7kybmsVLz9Z"
      },
      "source": [
        "### Step 4: Combining dataframes"
      ]
    },
    {
      "cell_type": "code",
      "metadata": {
        "id": "BpXupoVqKfjP"
      },
      "source": [
        "df = pd.merge(dfqueries,dftitles,how=\"inner\",on='Page')\n",
        "df.head()"
      ],
      "execution_count": null,
      "outputs": []
    },
    {
      "cell_type": "markdown",
      "metadata": {
        "id": "3jaTHiDZM7Rp"
      },
      "source": [
        "### Step 5: Count number of words"
      ]
    },
    {
      "cell_type": "code",
      "metadata": {
        "id": "RcGAZRAeLxBV"
      },
      "source": [
        "stop_words = get_stop_words(langcode)\n",
        "\n",
        "def number_words(sentence):\n",
        "  sentencewords = nltk.word_tokenize(str(sentence).lower()) \n",
        "  not_stop_words=[]\n",
        "  for word in sentencewords:\n",
        "    if(word not in stop_words):\n",
        "        not_stop_words.append(word)\n",
        "  sentencelength = len(not_stop_words)\n",
        "  return sentencelength\n",
        "\n",
        "df[\"Words in query\"]=df.apply(lambda x:number_words(x[\"Query\"]),axis=1)\n",
        "df[\"Words in title\"]=df.apply(lambda x:number_words(x[\"Title\"]),axis=1)\n",
        "df.head()"
      ],
      "execution_count": null,
      "outputs": []
    },
    {
      "cell_type": "markdown",
      "metadata": {
        "id": "V1fi0jWVORjb"
      },
      "source": [
        "### Step 6: Count number of common words\n",
        "words of query in title"
      ]
    },
    {
      "cell_type": "code",
      "metadata": {
        "id": "jV_z9Yg_OJta"
      },
      "source": [
        "def common_words(query,title):\n",
        "    stemmer  = SnowballStemmer(language, ignore_stopwords=True)\n",
        "    titlewords = nltk.word_tokenize(str(title).lower())\n",
        "    stemtitlewords = [stemmer.stem(word) for word in titlewords]\n",
        "    querywords = nltk.word_tokenize(str(query).lower()) \n",
        "    stemquerywords = [stemmer.stem(word) for word in querywords]\n",
        "    titlenospaces=title.replace(' ','').lower()\n",
        "    title_only_text = re.sub(r'\\W+', '', titlenospaces)\n",
        "    \n",
        "    lev_distance=0  \n",
        "    commonwords=0\n",
        "\n",
        "    for word in stemquerywords:\n",
        "      if(word not in stop_words):\n",
        "          #literal word check\n",
        "          if(word in title_only_text):\n",
        "              commonwords=commonwords+1         \n",
        "          else:\n",
        "          #check with word with title stemmed and for misspellings\n",
        "            for word2 in stemtitlewords:\n",
        "                lev_distance = distance(str(word),str(word2))\n",
        "                procent_distance = lev_distance/(len(word)+len(word2)/2)\n",
        "                if procent_distance<0.15:\n",
        "                    commonwords=commonwords+1\n",
        "    return commonwords\n",
        "    \n",
        "df[\"Common words\"]=df.apply(lambda x:common_words(x[\"Query\"],x[\"Title\"]),axis=1)\n",
        "df.sample(5)"
      ],
      "execution_count": null,
      "outputs": []
    },
    {
      "cell_type": "markdown",
      "metadata": {
        "id": "Ub07Rbcscivu"
      },
      "source": [
        "### Step 7 sort and explore table"
      ]
    },
    {
      "cell_type": "code",
      "metadata": {
        "id": "3U2yyCv-ce98"
      },
      "source": [
        "%load_ext google.colab.data_table\n",
        "\n",
        "print(\"Possible optimizations\")\n",
        "print(\"----------------------\")\n",
        "\n",
        "df=df.sort_values(by=['Common words', 'Words in query'], ascending=[True, False])\n",
        "df"
      ],
      "execution_count": null,
      "outputs": []
    },
    {
      "cell_type": "code",
      "metadata": {
        "id": "gnYZlfLcL7Sd"
      },
      "source": [
        ""
      ],
      "execution_count": null,
      "outputs": []
    },
    {
      "cell_type": "markdown",
      "metadata": {
        "id": "NTrldp50T60q"
      },
      "source": [
        "### Additional step: Export and download"
      ]
    },
    {
      "cell_type": "code",
      "metadata": {
        "id": "fMqHR2HGUDsi"
      },
      "source": [
        "#automatically download\n",
        "df.to_csv('export.csv')\n",
        "files.download('export.csv') "
      ],
      "execution_count": null,
      "outputs": []
    }
  ]
}