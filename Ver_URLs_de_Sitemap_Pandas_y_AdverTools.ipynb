{
  "nbformat": 4,
  "nbformat_minor": 0,
  "metadata": {
    "colab": {
      "name": "Ver URLs de Sitemap -  Pandas y AdverTools",
      "provenance": [],
      "authorship_tag": "ABX9TyNZqEjq3TZeAXIFby/x2GJf",
      "include_colab_link": true
    },
    "kernelspec": {
      "name": "python3",
      "display_name": "Python 3"
    },
    "language_info": {
      "name": "python"
    }
  },
  "cells": [
    {
      "cell_type": "markdown",
      "metadata": {
        "id": "view-in-github",
        "colab_type": "text"
      },
      "source": [
        "<a href=\"https://colab.research.google.com/github/jorgejaramillo/PythonSEO/blob/master/Ver_URLs_de_Sitemap_Pandas_y_AdverTools.ipynb\" target=\"_parent\"><img src=\"https://colab.research.google.com/assets/colab-badge.svg\" alt=\"Open In Colab\"/></a>"
      ]
    },
    {
      "cell_type": "markdown",
      "metadata": {
        "id": "PqppxoRNzdvP"
      },
      "source": [
        "Ver URLs de Sitemap"
      ]
    },
    {
      "cell_type": "code",
      "metadata": {
        "id": "n2JX43Lbfv8_"
      },
      "source": [
        "!pip install advertools"
      ],
      "execution_count": null,
      "outputs": []
    },
    {
      "cell_type": "code",
      "metadata": {
        "id": "--hg-7I8feLT"
      },
      "source": [
        "import pandas as pd\n",
        "import advertools as adv"
      ],
      "execution_count": 25,
      "outputs": []
    },
    {
      "cell_type": "code",
      "metadata": {
        "id": "Xg-E061vgJ9L"
      },
      "source": [
        "so = adv.sitemap_to_df('')"
      ],
      "execution_count": null,
      "outputs": []
    },
    {
      "cell_type": "code",
      "metadata": {
        "id": "VmMXBckSftQE"
      },
      "source": [
        "#Cambia Slug\n",
        "so = so[so['loc'].str.contains(\"slug\")]\n"
      ],
      "execution_count": 83,
      "outputs": []
    },
    {
      "cell_type": "code",
      "metadata": {
        "id": "nHdLY-P5gFvq"
      },
      "source": [
        "so[{'loc','priority','lastmod'}].head(10)"
      ],
      "execution_count": null,
      "outputs": []
    },
    {
      "cell_type": "code",
      "metadata": {
        "id": "lAa0jU0eh__O"
      },
      "source": [
        "%reload_ext google.colab.data_table\n",
        "so"
      ],
      "execution_count": null,
      "outputs": []
    },
    {
      "cell_type": "code",
      "metadata": {
        "id": "PHA72WpclWhp"
      },
      "source": [
        "so[so[\"lastmod\"] < '2019-01-01']"
      ],
      "execution_count": null,
      "outputs": []
    },
    {
      "cell_type": "code",
      "metadata": {
        "id": "_jvKAlBzmo5L"
      },
      "source": [
        "so[so[\"lastmod\"] < '2019-01-01'][[\"loc\", \"lastmod\"]].to_csv(\"latest_articles.csv\", index=False)"
      ],
      "execution_count": 48,
      "outputs": []
    },
    {
      "cell_type": "code",
      "metadata": {
        "id": "A1ZJzu35nGfy"
      },
      "source": [
        "example_url=\"https://www.hostingadvice.com/hosting-review/kamatera/\" #@param {type:\"string\"} \n"
      ],
      "execution_count": 49,
      "outputs": []
    },
    {
      "cell_type": "code",
      "metadata": {
        "id": "1iMJU05qnh-2"
      },
      "source": [
        "from urllib.parse import urlparse\n",
        "import re"
      ],
      "execution_count": 50,
      "outputs": []
    },
    {
      "cell_type": "code",
      "metadata": {
        "id": "xBVl_tSEnlcs"
      },
      "source": [
        "u = urlparse(example_url)"
      ],
      "execution_count": 51,
      "outputs": []
    },
    {
      "cell_type": "code",
      "metadata": {
        "id": "z41J_wkZnl_g"
      },
      "source": [
        "u"
      ],
      "execution_count": null,
      "outputs": []
    },
    {
      "cell_type": "code",
      "metadata": {
        "id": "6FzNT2FJnnDq"
      },
      "source": [
        "slug = re.split(\"[/]\", u.path)\n",
        "\n",
        "slug"
      ],
      "execution_count": null,
      "outputs": []
    },
    {
      "cell_type": "code",
      "metadata": {
        "id": "yoWJcJ6nnp3R"
      },
      "source": [
        "headline = \" \".join(slug)\n",
        "headline"
      ],
      "execution_count": null,
      "outputs": []
    },
    {
      "cell_type": "code",
      "metadata": {
        "id": "O6i5iN4unyh9"
      },
      "source": [
        "headline = re.sub(\"\\d{6}\", \"\",headline)\n",
        "headline"
      ],
      "execution_count": null,
      "outputs": []
    },
    {
      "cell_type": "code",
      "metadata": {
        "id": "A7nVjLx8n4kc"
      },
      "source": [
        "headline = headline.strip()\n",
        "headline"
      ],
      "execution_count": null,
      "outputs": []
    },
    {
      "cell_type": "code",
      "metadata": {
        "id": "54kLQVRGoEyP"
      },
      "source": [
        "if re.match(\"OVERALL RATING\", \"4.9\"):\n",
        "  print(\"Ok\")"
      ],
      "execution_count": 70,
      "outputs": []
    },
    {
      "cell_type": "code",
      "metadata": {
        "id": "PDDE34uwoabc"
      },
      "source": [
        "def get_headline(url):\n",
        "\n",
        "  u = urlparse(url)\n",
        "\n",
        "  if len(u.path) > 1:\n",
        "\n",
        "    slug = re.split(\"[/-]\", u.path)\n",
        "\n",
        "    new_headline = re.sub(\"\\d{6}\", \"\",\" \".join(slug)).strip()\n",
        "\n",
        "    #skip author and category pages\n",
        "    if not re.match(\"OVERALL RATING\", new_headline):\n",
        "      return new_headline\n",
        "\n",
        "  return"
      ],
      "execution_count": 71,
      "outputs": []
    },
    {
      "cell_type": "code",
      "metadata": {
        "id": "ppPFudRFopRN"
      },
      "source": [
        "get_headline(example_url)"
      ],
      "execution_count": null,
      "outputs": []
    },
    {
      "cell_type": "code",
      "metadata": {
        "id": "mtkO8zvAorLV"
      },
      "source": [
        "import pandas as pd\n",
        "\n",
        "#skip the home page and headers\n",
        "nuevo_df = pd.read_csv(\"latest_articles.csv\", names=[\"url\", \"lastmod\"], skiprows=2)"
      ],
      "execution_count": 73,
      "outputs": []
    },
    {
      "cell_type": "code",
      "metadata": {
        "id": "ZotLBA3roumG"
      },
      "source": [
        "new_df"
      ],
      "execution_count": null,
      "outputs": []
    },
    {
      "cell_type": "code",
      "metadata": {
        "id": "3Xmgl9n6ov9a"
      },
      "source": [
        "nuevo_df[\"url\"]"
      ],
      "execution_count": null,
      "outputs": []
    },
    {
      "cell_type": "code",
      "metadata": {
        "id": "G01n62qDpD28"
      },
      "source": [
        "nuevo_df[\"url\"].apply(lambda x: get_headline(x))"
      ],
      "execution_count": null,
      "outputs": []
    },
    {
      "cell_type": "code",
      "metadata": {
        "id": "51u9se7spFa5"
      },
      "source": [
        "nuevo_df[\"headline\"] = new_df[\"url\"].apply(lambda x: get_headline(x))"
      ],
      "execution_count": 77,
      "outputs": []
    },
    {
      "cell_type": "code",
      "metadata": {
        "id": "vxGpVZmlpHjT"
      },
      "source": [
        "nuevo_df"
      ],
      "execution_count": null,
      "outputs": []
    },
    {
      "cell_type": "code",
      "metadata": {
        "id": "ZuLKVexlpIyA"
      },
      "source": [
        "so.info()"
      ],
      "execution_count": null,
      "outputs": []
    },
    {
      "cell_type": "code",
      "metadata": {
        "id": "nheS0HTepeqX"
      },
      "source": [
        "nuevo_df.info()"
      ],
      "execution_count": null,
      "outputs": []
    }
  ]
}