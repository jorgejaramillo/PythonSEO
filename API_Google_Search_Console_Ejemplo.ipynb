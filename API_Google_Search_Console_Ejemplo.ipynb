{
  "nbformat": 4,
  "nbformat_minor": 0,
  "metadata": {
    "colab": {
      "provenance": [],
      "authorship_tag": "ABX9TyMAtflITBJCtr2/lazbWxo6",
      "include_colab_link": true
    },
    "kernelspec": {
      "name": "python3",
      "display_name": "Python 3"
    },
    "language_info": {
      "name": "python"
    }
  },
  "cells": [
    {
      "cell_type": "markdown",
      "metadata": {
        "id": "view-in-github",
        "colab_type": "text"
      },
      "source": [
        "<a href=\"https://colab.research.google.com/github/jorgejaramillo/PythonSEO/blob/master/API_Google_Search_Console_Ejemplo.ipynb\" target=\"_parent\"><img src=\"https://colab.research.google.com/assets/colab-badge.svg\" alt=\"Open In Colab\"/></a>"
      ]
    },
    {
      "cell_type": "markdown",
      "source": [
        "Instrucciones: https://jorgejaramillo.com/api-google-search-console-python/\n"
      ],
      "metadata": {
        "id": "UbVa_WCdgcH3"
      }
    },
    {
      "cell_type": "code",
      "execution_count": null,
      "metadata": {
        "id": "NGuUUlwrZ5ho",
        "colab": {
          "base_uri": "https://localhost:8080/",
          "height": 1000
        },
        "outputId": "1cf6b5d1-8c3d-4988-c4ba-40c5a2e09170"
      },
      "outputs": [
        {
          "output_type": "stream",
          "name": "stdout",
          "text": [
            "Collecting git+https://github.com/joshcarty/google-searchconsole\n",
            "  Cloning https://github.com/joshcarty/google-searchconsole to /tmp/pip-req-build-08xlgke1\n",
            "  Running command git clone --filter=blob:none --quiet https://github.com/joshcarty/google-searchconsole /tmp/pip-req-build-08xlgke1\n",
            "  Resolved https://github.com/joshcarty/google-searchconsole to commit 12c5cf5d86b6c4650055a2aeb6a7a59e5d5a3a7d\n",
            "  Preparing metadata (setup.py) ... \u001b[?25l\u001b[?25hdone\n",
            "Requirement already satisfied: google-api-python-client>=1.7.3 in /usr/local/lib/python3.10/dist-packages (from searchconsole==0.0.3) (2.84.0)\n",
            "Requirement already satisfied: python-dateutil>=2.7.3 in /usr/local/lib/python3.10/dist-packages (from searchconsole==0.0.3) (2.8.2)\n",
            "Collecting google-auth<2dev,>=1.5.0 (from searchconsole==0.0.3)\n",
            "  Downloading google_auth-1.35.0-py2.py3-none-any.whl (152 kB)\n",
            "\u001b[2K     \u001b[90m━━━━━━━━━━━━━━━━━━━━━━━━━━━━━━━━━━━━━━━━\u001b[0m \u001b[32m152.9/152.9 kB\u001b[0m \u001b[31m2.6 MB/s\u001b[0m eta \u001b[36m0:00:00\u001b[0m\n",
            "\u001b[?25hRequirement already satisfied: google-auth-oauthlib>=0.2.0 in /usr/local/lib/python3.10/dist-packages (from searchconsole==0.0.3) (1.2.0)\n",
            "Requirement already satisfied: httplib2<1dev,>=0.15.0 in /usr/local/lib/python3.10/dist-packages (from google-api-python-client>=1.7.3->searchconsole==0.0.3) (0.22.0)\n",
            "Requirement already satisfied: google-auth-httplib2>=0.1.0 in /usr/local/lib/python3.10/dist-packages (from google-api-python-client>=1.7.3->searchconsole==0.0.3) (0.1.1)\n",
            "Requirement already satisfied: google-api-core!=2.0.*,!=2.1.*,!=2.2.*,!=2.3.0,<3.0.0dev,>=1.31.5 in /usr/local/lib/python3.10/dist-packages (from google-api-python-client>=1.7.3->searchconsole==0.0.3) (2.11.1)\n",
            "Requirement already satisfied: uritemplate<5,>=3.0.1 in /usr/local/lib/python3.10/dist-packages (from google-api-python-client>=1.7.3->searchconsole==0.0.3) (4.1.1)\n",
            "Collecting cachetools<5.0,>=2.0.0 (from google-auth<2dev,>=1.5.0->searchconsole==0.0.3)\n",
            "  Downloading cachetools-4.2.4-py3-none-any.whl (10 kB)\n",
            "Requirement already satisfied: pyasn1-modules>=0.2.1 in /usr/local/lib/python3.10/dist-packages (from google-auth<2dev,>=1.5.0->searchconsole==0.0.3) (0.3.0)\n",
            "Requirement already satisfied: setuptools>=40.3.0 in /usr/local/lib/python3.10/dist-packages (from google-auth<2dev,>=1.5.0->searchconsole==0.0.3) (67.7.2)\n",
            "Requirement already satisfied: six>=1.9.0 in /usr/local/lib/python3.10/dist-packages (from google-auth<2dev,>=1.5.0->searchconsole==0.0.3) (1.16.0)\n",
            "Requirement already satisfied: rsa<5,>=3.1.4 in /usr/local/lib/python3.10/dist-packages (from google-auth<2dev,>=1.5.0->searchconsole==0.0.3) (4.9)\n",
            "INFO: pip is looking at multiple versions of google-auth-oauthlib to determine which version is compatible with other requirements. This could take a while.\n",
            "Collecting google-auth-oauthlib>=0.2.0 (from searchconsole==0.0.3)\n",
            "  Downloading google_auth_oauthlib-1.1.0-py2.py3-none-any.whl (19 kB)\n",
            "  Downloading google_auth_oauthlib-1.0.0-py2.py3-none-any.whl (18 kB)\n",
            "  Downloading google_auth_oauthlib-0.8.0-py2.py3-none-any.whl (19 kB)\n",
            "  Downloading google_auth_oauthlib-0.7.1-py2.py3-none-any.whl (19 kB)\n",
            "  Downloading google_auth_oauthlib-0.7.0-py2.py3-none-any.whl (19 kB)\n",
            "  Downloading google_auth_oauthlib-0.5.3-py2.py3-none-any.whl (19 kB)\n",
            "Requirement already satisfied: requests-oauthlib>=0.7.0 in /usr/local/lib/python3.10/dist-packages (from google-auth-oauthlib>=0.2.0->searchconsole==0.0.3) (1.3.1)\n",
            "Requirement already satisfied: googleapis-common-protos<2.0.dev0,>=1.56.2 in /usr/local/lib/python3.10/dist-packages (from google-api-core!=2.0.*,!=2.1.*,!=2.2.*,!=2.3.0,<3.0.0dev,>=1.31.5->google-api-python-client>=1.7.3->searchconsole==0.0.3) (1.62.0)\n",
            "Requirement already satisfied: protobuf!=3.20.0,!=3.20.1,!=4.21.0,!=4.21.1,!=4.21.2,!=4.21.3,!=4.21.4,!=4.21.5,<5.0.0.dev0,>=3.19.5 in /usr/local/lib/python3.10/dist-packages (from google-api-core!=2.0.*,!=2.1.*,!=2.2.*,!=2.3.0,<3.0.0dev,>=1.31.5->google-api-python-client>=1.7.3->searchconsole==0.0.3) (3.20.3)\n",
            "INFO: pip is looking at multiple versions of google-api-core to determine which version is compatible with other requirements. This could take a while.\n",
            "Collecting google-api-core!=2.0.*,!=2.1.*,!=2.2.*,!=2.3.0,<3.0.0dev,>=1.31.5 (from google-api-python-client>=1.7.3->searchconsole==0.0.3)\n",
            "  Downloading google_api_core-2.15.0-py3-none-any.whl (121 kB)\n",
            "\u001b[2K     \u001b[90m━━━━━━━━━━━━━━━━━━━━━━━━━━━━━━━━━━━━━━━━\u001b[0m \u001b[32m122.0/122.0 kB\u001b[0m \u001b[31m2.9 MB/s\u001b[0m eta \u001b[36m0:00:00\u001b[0m\n",
            "\u001b[?25h  Downloading google_api_core-2.14.0-py3-none-any.whl (122 kB)\n",
            "\u001b[2K     \u001b[90m━━━━━━━━━━━━━━━━━━━━━━━━━━━━━━━━━━━━━━━━\u001b[0m \u001b[32m122.2/122.2 kB\u001b[0m \u001b[31m4.8 MB/s\u001b[0m eta \u001b[36m0:00:00\u001b[0m\n",
            "\u001b[?25h  Downloading google_api_core-2.13.1-py3-none-any.whl (122 kB)\n",
            "\u001b[2K     \u001b[90m━━━━━━━━━━━━━━━━━━━━━━━━━━━━━━━━━━━━━━━━\u001b[0m \u001b[32m122.0/122.0 kB\u001b[0m \u001b[31m4.4 MB/s\u001b[0m eta \u001b[36m0:00:00\u001b[0m\n",
            "\u001b[?25h  Downloading google_api_core-2.13.0-py3-none-any.whl (122 kB)\n",
            "\u001b[2K     \u001b[90m━━━━━━━━━━━━━━━━━━━━━━━━━━━━━━━━━━━━━━━━\u001b[0m \u001b[32m122.0/122.0 kB\u001b[0m \u001b[31m3.0 MB/s\u001b[0m eta \u001b[36m0:00:00\u001b[0m\n",
            "\u001b[?25h  Downloading google_api_core-2.12.0-py3-none-any.whl (121 kB)\n",
            "\u001b[2K     \u001b[90m━━━━━━━━━━━━━━━━━━━━━━━━━━━━━━━━━━━━━━━━\u001b[0m \u001b[32m121.4/121.4 kB\u001b[0m \u001b[31m6.3 MB/s\u001b[0m eta \u001b[36m0:00:00\u001b[0m\n",
            "\u001b[?25h  Downloading google_api_core-2.11.0-py3-none-any.whl (120 kB)\n",
            "\u001b[2K     \u001b[90m━━━━━━━━━━━━━━━━━━━━━━━━━━━━━━━━━━━━━━━━\u001b[0m \u001b[32m120.3/120.3 kB\u001b[0m \u001b[31m6.6 MB/s\u001b[0m eta \u001b[36m0:00:00\u001b[0m\n",
            "\u001b[?25h  Downloading google_api_core-2.10.2-py3-none-any.whl (115 kB)\n",
            "\u001b[2K     \u001b[90m━━━━━━━━━━━━━━━━━━━━━━━━━━━━━━━━━━━━━━━━\u001b[0m \u001b[32m115.6/115.6 kB\u001b[0m \u001b[31m6.0 MB/s\u001b[0m eta \u001b[36m0:00:00\u001b[0m\n",
            "\u001b[?25hRequirement already satisfied: requests<3.0.0dev,>=2.18.0 in /usr/local/lib/python3.10/dist-packages (from google-api-core!=2.0.*,!=2.1.*,!=2.2.*,!=2.3.0,<3.0.0dev,>=1.31.5->google-api-python-client>=1.7.3->searchconsole==0.0.3) (2.31.0)\n",
            "Requirement already satisfied: pyparsing!=3.0.0,!=3.0.1,!=3.0.2,!=3.0.3,<4,>=2.4.2 in /usr/local/lib/python3.10/dist-packages (from httplib2<1dev,>=0.15.0->google-api-python-client>=1.7.3->searchconsole==0.0.3) (3.1.1)\n",
            "Requirement already satisfied: pyasn1<0.6.0,>=0.4.6 in /usr/local/lib/python3.10/dist-packages (from pyasn1-modules>=0.2.1->google-auth<2dev,>=1.5.0->searchconsole==0.0.3) (0.5.1)\n",
            "Requirement already satisfied: oauthlib>=3.0.0 in /usr/local/lib/python3.10/dist-packages (from requests-oauthlib>=0.7.0->google-auth-oauthlib>=0.2.0->searchconsole==0.0.3) (3.2.2)\n",
            "Requirement already satisfied: charset-normalizer<4,>=2 in /usr/local/lib/python3.10/dist-packages (from requests<3.0.0dev,>=2.18.0->google-api-core!=2.0.*,!=2.1.*,!=2.2.*,!=2.3.0,<3.0.0dev,>=1.31.5->google-api-python-client>=1.7.3->searchconsole==0.0.3) (3.3.2)\n",
            "Requirement already satisfied: idna<4,>=2.5 in /usr/local/lib/python3.10/dist-packages (from requests<3.0.0dev,>=2.18.0->google-api-core!=2.0.*,!=2.1.*,!=2.2.*,!=2.3.0,<3.0.0dev,>=1.31.5->google-api-python-client>=1.7.3->searchconsole==0.0.3) (3.6)\n",
            "Requirement already satisfied: urllib3<3,>=1.21.1 in /usr/local/lib/python3.10/dist-packages (from requests<3.0.0dev,>=2.18.0->google-api-core!=2.0.*,!=2.1.*,!=2.2.*,!=2.3.0,<3.0.0dev,>=1.31.5->google-api-python-client>=1.7.3->searchconsole==0.0.3) (2.0.7)\n",
            "Requirement already satisfied: certifi>=2017.4.17 in /usr/local/lib/python3.10/dist-packages (from requests<3.0.0dev,>=2.18.0->google-api-core!=2.0.*,!=2.1.*,!=2.2.*,!=2.3.0,<3.0.0dev,>=1.31.5->google-api-python-client>=1.7.3->searchconsole==0.0.3) (2023.11.17)\n",
            "Building wheels for collected packages: searchconsole\n",
            "  Building wheel for searchconsole (setup.py) ... \u001b[?25l\u001b[?25hdone\n",
            "  Created wheel for searchconsole: filename=searchconsole-0.0.3-py3-none-any.whl size=8893 sha256=354bb492f25ac71d1531e1dd94874d1a17cbe460db8a74b8fb39007caba87c39\n",
            "  Stored in directory: /tmp/pip-ephem-wheel-cache-8q4tol3n/wheels/b8/7f/4c/893515fd0198d38ededcf5cea61e19205ddf9f4de3e83fbc2e\n",
            "Successfully built searchconsole\n",
            "Installing collected packages: cachetools, google-auth, google-auth-oauthlib, google-api-core, searchconsole\n",
            "  Attempting uninstall: cachetools\n",
            "    Found existing installation: cachetools 5.3.2\n",
            "    Uninstalling cachetools-5.3.2:\n",
            "      Successfully uninstalled cachetools-5.3.2\n",
            "  Attempting uninstall: google-auth\n",
            "    Found existing installation: google-auth 2.17.3\n",
            "    Uninstalling google-auth-2.17.3:\n",
            "      Successfully uninstalled google-auth-2.17.3\n",
            "  Attempting uninstall: google-auth-oauthlib\n",
            "    Found existing installation: google-auth-oauthlib 1.2.0\n",
            "    Uninstalling google-auth-oauthlib-1.2.0:\n",
            "      Successfully uninstalled google-auth-oauthlib-1.2.0\n",
            "  Attempting uninstall: google-api-core\n",
            "    Found existing installation: google-api-core 2.11.1\n",
            "    Uninstalling google-api-core-2.11.1:\n",
            "      Successfully uninstalled google-api-core-2.11.1\n",
            "\u001b[31mERROR: pip's dependency resolver does not currently take into account all the packages that are installed. This behaviour is the source of the following dependency conflicts.\n",
            "llmx 0.0.15a0 requires cohere, which is not installed.\n",
            "llmx 0.0.15a0 requires openai, which is not installed.\n",
            "llmx 0.0.15a0 requires tiktoken, which is not installed.\n",
            "bigframes 0.19.1 requires google-auth<3.0dev,>2.14.1, but you have google-auth 1.35.0 which is incompatible.\n",
            "google-ai-generativelanguage 0.4.0 requires google-api-core[grpc]!=2.0.*,!=2.1.*,!=2.10.*,!=2.2.*,!=2.3.*,!=2.4.*,!=2.5.*,!=2.6.*,!=2.7.*,!=2.8.*,!=2.9.*,<3.0.0dev,>=1.34.0, but you have google-api-core 2.10.2 which is incompatible.\n",
            "google-cloud-bigquery-connection 1.12.1 requires google-api-core[grpc]!=2.0.*,!=2.1.*,!=2.10.*,!=2.2.*,!=2.3.*,!=2.4.*,!=2.5.*,!=2.6.*,!=2.7.*,!=2.8.*,!=2.9.*,<3.0.0dev,>=1.34.0, but you have google-api-core 2.10.2 which is incompatible.\n",
            "google-cloud-bigquery-storage 2.24.0 requires google-api-core[grpc]!=2.0.*,!=2.1.*,!=2.10.*,!=2.2.*,!=2.3.*,!=2.4.*,!=2.5.*,!=2.6.*,!=2.7.*,!=2.8.*,!=2.9.*,<3.0.0dev,>=1.34.0, but you have google-api-core 2.10.2 which is incompatible.\n",
            "google-cloud-datastore 2.15.2 requires google-api-core[grpc]!=2.0.*,!=2.1.*,!=2.10.*,!=2.2.*,!=2.3.*,!=2.4.*,!=2.5.*,!=2.6.*,!=2.7.*,!=2.8.*,!=2.9.*,<3.0.0dev,>=1.34.0, but you have google-api-core 2.10.2 which is incompatible.\n",
            "google-cloud-firestore 2.11.1 requires google-api-core[grpc]!=2.0.*,!=2.1.*,!=2.10.*,!=2.2.*,!=2.3.*,!=2.4.*,!=2.5.*,!=2.6.*,!=2.7.*,!=2.8.*,!=2.9.*,<3.0.0dev,>=1.34.0, but you have google-api-core 2.10.2 which is incompatible.\n",
            "google-cloud-functions 1.13.3 requires google-api-core[grpc]!=2.0.*,!=2.1.*,!=2.10.*,!=2.2.*,!=2.3.*,!=2.4.*,!=2.5.*,!=2.6.*,!=2.7.*,!=2.8.*,!=2.9.*,<3.0.0dev,>=1.34.0, but you have google-api-core 2.10.2 which is incompatible.\n",
            "google-cloud-iam 2.13.0 requires google-api-core[grpc]!=2.0.*,!=2.1.*,!=2.10.*,!=2.2.*,!=2.3.*,!=2.4.*,!=2.5.*,!=2.6.*,!=2.7.*,!=2.8.*,!=2.9.*,<3.0.0dev,>=1.34.0, but you have google-api-core 2.10.2 which is incompatible.\n",
            "google-cloud-language 2.9.1 requires google-api-core[grpc]!=2.0.*,!=2.1.*,!=2.10.*,!=2.2.*,!=2.3.*,!=2.4.*,!=2.5.*,!=2.6.*,!=2.7.*,!=2.8.*,!=2.9.*,<3.0.0dev,>=1.34.0, but you have google-api-core 2.10.2 which is incompatible.\n",
            "google-cloud-resource-manager 1.11.0 requires google-api-core[grpc]!=2.0.*,!=2.1.*,!=2.10.*,!=2.2.*,!=2.3.*,!=2.4.*,!=2.5.*,!=2.6.*,!=2.7.*,!=2.8.*,!=2.9.*,<3.0.0dev,>=1.34.0, but you have google-api-core 2.10.2 which is incompatible.\n",
            "google-cloud-translate 3.11.3 requires google-api-core[grpc]!=2.0.*,!=2.1.*,!=2.10.*,!=2.2.*,!=2.3.*,!=2.4.*,!=2.5.*,!=2.6.*,!=2.7.*,!=2.8.*,!=2.9.*,<3.0.0dev,>=1.34.0, but you have google-api-core 2.10.2 which is incompatible.\n",
            "google-colab 1.0.0 requires google-auth==2.17.3, but you have google-auth 1.35.0 which is incompatible.\n",
            "pandas-gbq 0.19.2 requires google-auth>=2.13.0, but you have google-auth 1.35.0 which is incompatible.\n",
            "pandas-gbq 0.19.2 requires google-auth-oauthlib>=0.7.0, but you have google-auth-oauthlib 0.5.3 which is incompatible.\u001b[0m\u001b[31m\n",
            "\u001b[0mSuccessfully installed cachetools-4.2.4 google-api-core-2.10.2 google-auth-1.35.0 google-auth-oauthlib-0.5.3 searchconsole-0.0.3\n"
          ]
        },
        {
          "output_type": "display_data",
          "data": {
            "application/vnd.colab-display-data+json": {
              "pip_warning": {
                "packages": [
                  "google"
                ]
              }
            }
          },
          "metadata": {}
        }
      ],
      "source": [
        "!pip install git+https://github.com/joshcarty/google-searchconsole"
      ]
    },
    {
      "cell_type": "code",
      "source": [
        "# Librerias utilizadas\n",
        "\n",
        "import searchconsole\n",
        "import pandas as pd\n",
        "import numpy as np\n",
        "from datetime import datetime\n",
        "from datetime import timedelta\n",
        "import calendar"
      ],
      "metadata": {
        "id": "RurrJae8Z_zV"
      },
      "execution_count": null,
      "outputs": []
    },
    {
      "cell_type": "code",
      "source": [
        "# de donde leemos los archivos\n",
        "\n",
        "from google.colab import drive\n",
        "drive.mount('/content/drive')"
      ],
      "metadata": {
        "colab": {
          "base_uri": "https://localhost:8080/"
        },
        "id": "-wvB7d-8aS9C",
        "outputId": "62b7c9b5-d6cd-4e42-a64d-df3f4606e7ce"
      },
      "execution_count": null,
      "outputs": [
        {
          "output_type": "stream",
          "name": "stdout",
          "text": [
            "Mounted at /content/drive\n"
          ]
        }
      ]
    },
    {
      "cell_type": "code",
      "source": [
        "# nos conectamos\n",
        "try:\n",
        "  account = searchconsole.authenticate(flow=\"console\", client_config='/content/drive/MyDrive/API/test-client_secret_289093706113-7eqp7p21ss4v86ta9ve1gk0g5l27fkm8.apps.googleusercontent.com.json', credentials='/content/drive/MyDrive/API/test-client_secret_289093706113-7eqp7p21ss4v86ta9ve1gk0g5l27fkm8.apps.googleusercontent.com.json')\n",
        "except:\n",
        "  account = searchconsole.authenticate(flow=\"console\", client_config='/content/drive/MyDrive/API/test-client_secret_289093706113-7eqp7p21ss4v86ta9ve1gk0g5l27fkm8.apps.googleusercontent.com.json', serialize='/content/drive/MyDrive/API/test-client_secret_289093706113-7eqp7p21ss4v86ta9ve1gk0g5l27fkm8.apps.googleusercontent.com.json')"
      ],
      "metadata": {
        "id": "thvKxmgXaoim"
      },
      "execution_count": null,
      "outputs": []
    },
    {
      "cell_type": "code",
      "source": [
        "# ver propiedades en GSC\n",
        "account.webproperties"
      ],
      "metadata": {
        "id": "EzRHSUSYbdFH",
        "colab": {
          "base_uri": "https://localhost:8080/"
        },
        "outputId": "96eeade3-713e-44c5-d127-eb274c9ccd54"
      },
      "execution_count": null,
      "outputs": [
        {
          "output_type": "execute_result",
          "data": {
            "text/plain": [
              "[<searchconsole.account.WebProperty(url='https://lorenacorrea.co/')>,\n",
              " <searchconsole.account.WebProperty(url='https://farmaclub.com.co/')>,\n",
              " <searchconsole.account.WebProperty(url='sc-domain:ava.vecindario.com')>,\n",
              " <searchconsole.account.WebProperty(url='sc-domain:cafam.com.co')>,\n",
              " <searchconsole.account.WebProperty(url='sc-domain:constructoracapital.com')>,\n",
              " <searchconsole.account.WebProperty(url='https://datosestructurados.jorgejaramillo.com/')>,\n",
              " <searchconsole.account.WebProperty(url='https://qa3-dot-web-farmatodo.appspot.com/')>,\n",
              " <searchconsole.account.WebProperty(url='sc-domain:ensenada.vecindario.com')>,\n",
              " <searchconsole.account.WebProperty(url='https://www.babyfresh.co/')>,\n",
              " <searchconsole.account.WebProperty(url='sc-domain:galax.co')>,\n",
              " <searchconsole.account.WebProperty(url='https://accesoriosyacabados.com/')>,\n",
              " <searchconsole.account.WebProperty(url='https://www.gef.com.co/')>,\n",
              " <searchconsole.account.WebProperty(url='http://galax.co/')>,\n",
              " <searchconsole.account.WebProperty(url='sc-domain:vivaenvigado.com')>,\n",
              " <searchconsole.account.WebProperty(url='sc-domain:vivaonline.com.co')>,\n",
              " <searchconsole.account.WebProperty(url='https://vajillascorona.com.co/')>,\n",
              " <searchconsole.account.WebProperty(url='http://latinexclusive.com/')>,\n",
              " <searchconsole.account.WebProperty(url='https://www.xtresmedia.com/')>,\n",
              " <searchconsole.account.WebProperty(url='https://greatseoconsultant.com/')>,\n",
              " <searchconsole.account.WebProperty(url='https://corona.co/')>,\n",
              " <searchconsole.account.WebProperty(url='https://www.grival.com/')>,\n",
              " <searchconsole.account.WebProperty(url='https://www.luegopago.com/')>,\n",
              " <searchconsole.account.WebProperty(url='sc-domain:selfservice.cafam.com.co')>,\n",
              " <searchconsole.account.WebProperty(url='sc-domain:compra.ccviva.com')>,\n",
              " <searchconsole.account.WebProperty(url='https://www.puntoblanco.co/')>,\n",
              " <searchconsole.account.WebProperty(url='sc-domain:sites.vecindario.com')>,\n",
              " <searchconsole.account.WebProperty(url='sc-domain:portalprueba.cafam.com.co')>,\n",
              " <searchconsole.account.WebProperty(url='https://nearby.florist/')>,\n",
              " <searchconsole.account.WebProperty(url='https://www.jorgejaramillo.com/')>,\n",
              " <searchconsole.account.WebProperty(url='http://www.floresyservicios.com/')>,\n",
              " <searchconsole.account.WebProperty(url='https://www.flamingo.com.co/')>,\n",
              " <searchconsole.account.WebProperty(url='sc-domain:stronglify.com')>,\n",
              " <searchconsole.account.WebProperty(url='https://bateriasadomicilio.com.co/')>,\n",
              " <searchconsole.account.WebProperty(url='https://gef.co/')>,\n",
              " <searchconsole.account.WebProperty(url='sc-domain:laventa.vecindario.com')>,\n",
              " <searchconsole.account.WebProperty(url='https://inbound-marketing.xtresmedia.com/')>,\n",
              " <searchconsole.account.WebProperty(url='https://m.latinexclusive.com/')>,\n",
              " <searchconsole.account.WebProperty(url='https://floresyservicios.com/')>,\n",
              " <searchconsole.account.WebProperty(url='http://www.flamingo.com.co/')>,\n",
              " <searchconsole.account.WebProperty(url='sc-domain:compraturc.com.co')>,\n",
              " <searchconsole.account.WebProperty(url='sc-domain:cerezo.vecindario.com')>,\n",
              " <searchconsole.account.WebProperty(url='sc-domain:empresas.vecindario.com')>,\n",
              " <searchconsole.account.WebProperty(url='http://www.ccviva.co/')>,\n",
              " <searchconsole.account.WebProperty(url='http://flamingo.com.co/')>,\n",
              " <searchconsole.account.WebProperty(url='sc-domain:vecindario.com')>,\n",
              " <searchconsole.account.WebProperty(url='sc-domain:blog.babyfresh.co')>,\n",
              " <searchconsole.account.WebProperty(url='https://galax.co/')>,\n",
              " <searchconsole.account.WebProperty(url='http://blog.jorgejaramillo.com/')>,\n",
              " <searchconsole.account.WebProperty(url='http://blogs.eltiempo.com/')>,\n",
              " <searchconsole.account.WebProperty(url='https://www.farmatodo.com.co/')>,\n",
              " <searchconsole.account.WebProperty(url='sc-domain:corona.co')>,\n",
              " <searchconsole.account.WebProperty(url='https://www.lacarpinteria.co/')>,\n",
              " <searchconsole.account.WebProperty(url='sc-domain:hogaruniversal.com')>,\n",
              " <searchconsole.account.WebProperty(url='https://buscohosting.com/')>,\n",
              " <searchconsole.account.WebProperty(url='sc-domain:lorenacorrea.co')>,\n",
              " <searchconsole.account.WebProperty(url='http://admin-beta.vibra.fm/')>,\n",
              " <searchconsole.account.WebProperty(url='sc-domain:luegopago.com')>,\n",
              " <searchconsole.account.WebProperty(url='sc-domain:tiendasmarthome.com')>,\n",
              " <searchconsole.account.WebProperty(url='sc-domain:puntoblanco.com.co')>,\n",
              " <searchconsole.account.WebProperty(url='sc-domain:m.latinexclusive.com')>,\n",
              " <searchconsole.account.WebProperty(url='https://col.hogaruniversal.com/')>,\n",
              " <searchconsole.account.WebProperty(url='https://www.gef.co/')>,\n",
              " <searchconsole.account.WebProperty(url='https://insightcrime.org/')>,\n",
              " <searchconsole.account.WebProperty(url='sc-domain:babyfresh.com.co')>,\n",
              " <searchconsole.account.WebProperty(url='https://stronglify.com/blog/')>,\n",
              " <searchconsole.account.WebProperty(url='https://tienda-sportfitness.com/')>,\n",
              " <searchconsole.account.WebProperty(url='sc-domain:puntoblanco.co')>,\n",
              " <searchconsole.account.WebProperty(url='sc-domain:consultaaliados.cafam.com.co')>,\n",
              " <searchconsole.account.WebProperty(url='https://latinexclusive.com/')>,\n",
              " <searchconsole.account.WebProperty(url='https://hoytrabajas.com/')>,\n",
              " <searchconsole.account.WebProperty(url='https://int.mercedessalazar.com/')>,\n",
              " <searchconsole.account.WebProperty(url='sc-domain:accesoriosyacabados.com')>,\n",
              " <searchconsole.account.WebProperty(url='https://co.mercedessalazar.com/')>,\n",
              " <searchconsole.account.WebProperty(url='https://universalhome.com/')>,\n",
              " <searchconsole.account.WebProperty(url='sc-domain:blog.vecindario.com')>,\n",
              " <searchconsole.account.WebProperty(url='sc-domain:gef.com.co')>,\n",
              " <searchconsole.account.WebProperty(url='sc-domain:qaslibrosdeoro.cafam.com.co')>,\n",
              " <searchconsole.account.WebProperty(url='sc-domain:flamingo.com.co')>,\n",
              " <searchconsole.account.WebProperty(url='https://jorgejaramillo.com/')>,\n",
              " <searchconsole.account.WebProperty(url='sc-domain:solana.vecindario.com')>,\n",
              " <searchconsole.account.WebProperty(url='sc-domain:coccoylolo.com')>,\n",
              " <searchconsole.account.WebProperty(url='sc-domain:auth.galax.co')>,\n",
              " <searchconsole.account.WebProperty(url='sc-domain:nearby.florist')>,\n",
              " <searchconsole.account.WebProperty(url='https://blog.vecindario.com/')>,\n",
              " <searchconsole.account.WebProperty(url='https://beta.vibra.fm/')>,\n",
              " <searchconsole.account.WebProperty(url='sc-domain:allegro.vecindario.com')>,\n",
              " <searchconsole.account.WebProperty(url='sc-domain:es.insightcrime.org')>,\n",
              " <searchconsole.account.WebProperty(url='sc-domain:qa.tienda-sportfitness.com')>,\n",
              " <searchconsole.account.WebProperty(url='sc-domain:qaspremiomujer.cafam.com.co')>,\n",
              " <searchconsole.account.WebProperty(url='https://cloud.tienda-sportfitness.com/')>,\n",
              " <searchconsole.account.WebProperty(url='sc-domain:razas.tierragro.com')>,\n",
              " <searchconsole.account.WebProperty(url='http://www.jorgejaramillo.com/')>,\n",
              " <searchconsole.account.WebProperty(url='sc-domain:blog.jorgejaramillo.com')>,\n",
              " <searchconsole.account.WebProperty(url='sc-domain:recepcionfacelec.cafam.com.co')>,\n",
              " <searchconsole.account.WebProperty(url='https://rentacarmedellin.co/')>,\n",
              " <searchconsole.account.WebProperty(url='https://www.trueshop.com.co/')>,\n",
              " <searchconsole.account.WebProperty(url='http://pacifista.co/')>,\n",
              " <searchconsole.account.WebProperty(url='https://www.viajesexito.com/')>,\n",
              " <searchconsole.account.WebProperty(url='sc-domain:nogales.vecindario.com')>,\n",
              " <searchconsole.account.WebProperty(url='https://www.flowersandservices.com/')>,\n",
              " <searchconsole.account.WebProperty(url='https://cofi.co/')>,\n",
              " <searchconsole.account.WebProperty(url='https://www.tiendahogaruniversal.com/')>,\n",
              " <searchconsole.account.WebProperty(url='sc-domain:dev.latinexclusive.com')>,\n",
              " <searchconsole.account.WebProperty(url='sc-domain:ccviva.com')>,\n",
              " <searchconsole.account.WebProperty(url='https://www.vajillascorona.com.co/')>,\n",
              " <searchconsole.account.WebProperty(url='https://glosarioseo.com/')>,\n",
              " <searchconsole.account.WebProperty(url='sc-domain:farmatodo.com.co')>,\n",
              " <searchconsole.account.WebProperty(url='sc-domain:flowersandservices.com')>,\n",
              " <searchconsole.account.WebProperty(url='https://tiendasmarthome.com/')>,\n",
              " <searchconsole.account.WebProperty(url='https://www.constructoracapital.com/')>,\n",
              " <searchconsole.account.WebProperty(url='https://www.universalhome.com/')>,\n",
              " <searchconsole.account.WebProperty(url='sc-domain:travel.luegopago.com')>,\n",
              " <searchconsole.account.WebProperty(url='https://www.ccviva.co/')>,\n",
              " <searchconsole.account.WebProperty(url='sc-domain:flowermail.com')>,\n",
              " <searchconsole.account.WebProperty(url='https://m.eltiempo.com/')>,\n",
              " <searchconsole.account.WebProperty(url='sc-domain:distritoplaza.vecindario.com')>,\n",
              " <searchconsole.account.WebProperty(url='sc-domain:gef.co')>,\n",
              " <searchconsole.account.WebProperty(url='https://travel.luegopago.com/')>,\n",
              " <searchconsole.account.WebProperty(url='https://www.tennis.com.ec/')>,\n",
              " <searchconsole.account.WebProperty(url='https://www.vibra.fm/')>,\n",
              " <searchconsole.account.WebProperty(url='https://mdalatam.university/')>,\n",
              " <searchconsole.account.WebProperty(url='http://beta.vibra.fm/')>,\n",
              " <searchconsole.account.WebProperty(url='https://www.eltiempo.com/amp/')>,\n",
              " <searchconsole.account.WebProperty(url='sc-domain:vajillascorona.com.co')>,\n",
              " <searchconsole.account.WebProperty(url='http://jorgejaramillo.com/')>,\n",
              " <searchconsole.account.WebProperty(url='https://aprenderingles.io/')>,\n",
              " <searchconsole.account.WebProperty(url='https://es.insightcrime.org/')>,\n",
              " <searchconsole.account.WebProperty(url='https://www.care24.com.co/')>,\n",
              " <searchconsole.account.WebProperty(url='https://flowermail.com/')>,\n",
              " <searchconsole.account.WebProperty(url='http://m.latinexclusive.com/')>,\n",
              " <searchconsole.account.WebProperty(url='https://www.puntoblanco.com.co/')>,\n",
              " <searchconsole.account.WebProperty(url='https://www.farmatodo.com.ve/')>,\n",
              " <searchconsole.account.WebProperty(url='https://www.vivaonline.com.co/')>,\n",
              " <searchconsole.account.WebProperty(url='sc-domain:asistencia.app')>,\n",
              " <searchconsole.account.WebProperty(url='https://guiadecirujanos.com/')>,\n",
              " <searchconsole.account.WebProperty(url='https://www.cafam.com.co/')>,\n",
              " <searchconsole.account.WebProperty(url='sc-domain:babyfresh.co')>,\n",
              " <searchconsole.account.WebProperty(url='https://larazon.co/')>,\n",
              " <searchconsole.account.WebProperty(url='https://www.bitmoney.co/')>,\n",
              " <searchconsole.account.WebProperty(url='https://okolo.com.co/')>,\n",
              " <searchconsole.account.WebProperty(url='https://flowersandservices.com/')>,\n",
              " <searchconsole.account.WebProperty(url='sc-domain:tienda-sportfitness.com')>,\n",
              " <searchconsole.account.WebProperty(url='sc-domain:msprueba.cafam.com.co')>,\n",
              " <searchconsole.account.WebProperty(url='https://admin.vibra.fm/')>,\n",
              " <searchconsole.account.WebProperty(url='https://www.galax.co/')>,\n",
              " <searchconsole.account.WebProperty(url='http://ccviva.co/')>,\n",
              " <searchconsole.account.WebProperty(url='sc-domain:maluma.gef.co')>,\n",
              " <searchconsole.account.WebProperty(url='sc-domain:vaticdesign.com')>,\n",
              " <searchconsole.account.WebProperty(url='sc-domain:colombinaus.com')>,\n",
              " <searchconsole.account.WebProperty(url='sc-domain:tierragro.com')>,\n",
              " <searchconsole.account.WebProperty(url='sc-domain:presente.vecindario.com')>,\n",
              " <searchconsole.account.WebProperty(url='sc-domain:viajesexito.com')>,\n",
              " <searchconsole.account.WebProperty(url='sc-domain:cambiocolombia.com')>,\n",
              " <searchconsole.account.WebProperty(url='https://www.floresyservicios.com/')>,\n",
              " <searchconsole.account.WebProperty(url='http://admin.vibra.fm/')>,\n",
              " <searchconsole.account.WebProperty(url='https://luegopago.com/')>,\n",
              " <searchconsole.account.WebProperty(url='sc-domain:jorgejaramillo.com')>,\n",
              " <searchconsole.account.WebProperty(url='https://beta.flowermail.com/')>]"
            ]
          },
          "metadata": {},
          "execution_count": 5
        }
      ]
    },
    {
      "cell_type": "code",
      "source": [
        "# seleccionar una propiedad\n",
        "webproperty = account['sc-domain:farmatodo.com.co']"
      ],
      "metadata": {
        "id": "Se9ykWytbgyi"
      },
      "execution_count": null,
      "outputs": []
    },
    {
      "cell_type": "code",
      "source": [
        "# query de la fecha\n",
        "report = webproperty.query.range('today',days=-365).dimension('page').get().to_dataframe()"
      ],
      "metadata": {
        "id": "M_-BCGaibssQ"
      },
      "execution_count": null,
      "outputs": []
    },
    {
      "cell_type": "code",
      "source": [
        "report.to_csv(r'reporte.csv', index=False, header=True)"
      ],
      "metadata": {
        "id": "-LgKD-kwcGHk"
      },
      "execution_count": null,
      "outputs": []
    }
  ]
}