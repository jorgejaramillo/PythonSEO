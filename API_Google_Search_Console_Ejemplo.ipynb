{
  "nbformat": 4,
  "nbformat_minor": 0,
  "metadata": {
    "colab": {
      "name": "API Google Search Console - Ejemplo",
      "provenance": [],
      "collapsed_sections": [],
      "authorship_tag": "ABX9TyMqqcJBsUANf6zkRDYwQxdS",
      "include_colab_link": true
    },
    "kernelspec": {
      "name": "python3",
      "display_name": "Python 3"
    },
    "language_info": {
      "name": "python"
    }
  },
  "cells": [
    {
      "cell_type": "markdown",
      "metadata": {
        "id": "view-in-github",
        "colab_type": "text"
      },
      "source": [
        "<a href=\"https://colab.research.google.com/github/jorgejaramillo/PythonSEO/blob/master/API_Google_Search_Console_Ejemplo.ipynb\" target=\"_parent\"><img src=\"https://colab.research.google.com/assets/colab-badge.svg\" alt=\"Open In Colab\"/></a>"
      ]
    },
    {
      "cell_type": "markdown",
      "source": [
        "Instrucciones: https://jorgejaramillo.com/api-google-search-console-python/\n"
      ],
      "metadata": {
        "id": "UbVa_WCdgcH3"
      }
    },
    {
      "cell_type": "code",
      "execution_count": 1,
      "metadata": {
        "id": "NGuUUlwrZ5ho",
        "colab": {
          "base_uri": "https://localhost:8080/"
        },
        "outputId": "a1e558ce-e9c7-45a1-8dce-1040f9317189"
      },
      "outputs": [
        {
          "output_type": "stream",
          "name": "stdout",
          "text": [
            "Installing collected packages: searchconsole\n",
            "Successfully installed searchconsole-0.0.3\n"
          ]
        }
      ],
      "source": [
        "!pip install git+https://github.com/joshcarty/google-searchconsole"
      ]
    },
    {
      "cell_type": "code",
      "source": [
        "# Librerias utilizadas \n",
        "\n",
        "import searchconsole\n",
        "import pandas as pd\n",
        "import numpy as np\n",
        "from datetime import datetime\n",
        "from datetime import timedelta\n",
        "import calendar"
      ],
      "metadata": {
        "id": "RurrJae8Z_zV"
      },
      "execution_count": 2,
      "outputs": []
    },
    {
      "cell_type": "code",
      "source": [
        "# de donde leemos los archivos\n",
        "\n",
        "from google.colab import drive\n",
        "drive.mount('/content/drive')"
      ],
      "metadata": {
        "colab": {
          "base_uri": "https://localhost:8080/"
        },
        "id": "-wvB7d-8aS9C",
        "outputId": "bddea7b7-dec9-48c7-fe2a-a283fd3c97e5"
      },
      "execution_count": 3,
      "outputs": [
        {
          "output_type": "stream",
          "name": "stdout",
          "text": [
            "Mounted at /content/drive\n"
          ]
        }
      ]
    },
    {
      "cell_type": "code",
      "source": [
        "# nos conectamos\n",
        "try:\n",
        "  account = searchconsole.authenticate(flow=\"console\", client_config='/content/drive/MyDrive/API/test-client_secret_289093706113-7eqp7p21ss4v86ta9ve1gk0g5l27fkm8.apps.googleusercontent.com.json', credentials='/content/drive/MyDrive/API/test-client_secret_289093706113-7eqp7p21ss4v86ta9ve1gk0g5l27fkm8.apps.googleusercontent.com.json')\n",
        "except: \n",
        "  account = searchconsole.authenticate(flow=\"console\", client_config='/content/drive/MyDrive/API/test-client_secret_289093706113-7eqp7p21ss4v86ta9ve1gk0g5l27fkm8.apps.googleusercontent.com.json', serialize='/content/drive/MyDrive/API/test-client_secret_289093706113-7eqp7p21ss4v86ta9ve1gk0g5l27fkm8.apps.googleusercontent.com.json')"
      ],
      "metadata": {
        "id": "thvKxmgXaoim"
      },
      "execution_count": 4,
      "outputs": []
    },
    {
      "cell_type": "code",
      "source": [
        "# ver propiedades en GSC\n",
        "account.webproperties"
      ],
      "metadata": {
        "id": "EzRHSUSYbdFH",
        "colab": {
          "base_uri": "https://localhost:8080/"
        },
        "outputId": "000604e6-901f-4ee2-ddef-a9f9c75b91aa"
      },
      "execution_count": 5,
      "outputs": [
        {
          "output_type": "execute_result",
          "data": {
            "text/plain": [
              "[<searchconsole.account.WebProperty(url='https://coleccion.flamingo.com.co/')>,\n",
              " <searchconsole.account.WebProperty(url='https://cercal.cl/')>,\n",
              " <searchconsole.account.WebProperty(url='https://ccoins.io/')>,\n",
              " <searchconsole.account.WebProperty(url='https://www.flowersandservices.com/')>,\n",
              " <searchconsole.account.WebProperty(url='sc-domain:nearby.florist')>,\n",
              " <searchconsole.account.WebProperty(url='https://www.trueshop.com.co/')>,\n",
              " <searchconsole.account.WebProperty(url='http://pacifista.co/')>,\n",
              " <searchconsole.account.WebProperty(url='https://www.gef.co/')>,\n",
              " <searchconsole.account.WebProperty(url='https://galax.co/')>,\n",
              " <searchconsole.account.WebProperty(url='https://www.care24.com.co/')>,\n",
              " <searchconsole.account.WebProperty(url='https://www.tierragro.com/')>,\n",
              " <searchconsole.account.WebProperty(url='sc-domain:encriptados.io')>,\n",
              " <searchconsole.account.WebProperty(url='http://floresyservicios.com/')>,\n",
              " <searchconsole.account.WebProperty(url='https://bateriasadomicilio.com.co/')>,\n",
              " <searchconsole.account.WebProperty(url='https://floresyservicios.com/')>,\n",
              " <searchconsole.account.WebProperty(url='https://int.trueshop.co/')>,\n",
              " <searchconsole.account.WebProperty(url='https://co.mercedessalazar.com/')>,\n",
              " <searchconsole.account.WebProperty(url='https://www.luegopago.com/')>,\n",
              " <searchconsole.account.WebProperty(url='https://m.eltiempo.com/')>,\n",
              " <searchconsole.account.WebProperty(url='https://inbound-marketing.xtresmedia.com/')>,\n",
              " <searchconsole.account.WebProperty(url='https://luegopago.com/')>,\n",
              " <searchconsole.account.WebProperty(url='https://www.farmatodo.com.co/')>,\n",
              " <searchconsole.account.WebProperty(url='sc-domain:blog.jorgejaramillo.com')>,\n",
              " <searchconsole.account.WebProperty(url='https://www.callzilla.net/')>,\n",
              " <searchconsole.account.WebProperty(url='https://www.lacarpinteria.co/')>,\n",
              " <searchconsole.account.WebProperty(url='https://admin.vibra.fm/')>,\n",
              " <searchconsole.account.WebProperty(url='https://encriptados.io/')>,\n",
              " <searchconsole.account.WebProperty(url='http://admin.vibra.fm/')>,\n",
              " <searchconsole.account.WebProperty(url='http://galax.co/')>,\n",
              " <searchconsole.account.WebProperty(url='sc-domain:megaacademy.io')>,\n",
              " <searchconsole.account.WebProperty(url='https://latinexclusive.com/')>,\n",
              " <searchconsole.account.WebProperty(url='https://glosarioseo.com/')>,\n",
              " <searchconsole.account.WebProperty(url='sc-domain:farmatodo.com.co')>,\n",
              " <searchconsole.account.WebProperty(url='https://www.eltiempo.com/amp/')>,\n",
              " <searchconsole.account.WebProperty(url='https://www.vibra.fm/')>,\n",
              " <searchconsole.account.WebProperty(url='http://blog.jorgejaramillo.com/')>,\n",
              " <searchconsole.account.WebProperty(url='https://www.flamingo.com.co/')>,\n",
              " <searchconsole.account.WebProperty(url='http://jorgejaramillo.com/')>,\n",
              " <searchconsole.account.WebProperty(url='https://beta.flowermail.com/')>,\n",
              " <searchconsole.account.WebProperty(url='https://www.jorgejaramillo.com/')>,\n",
              " <searchconsole.account.WebProperty(url='sc-domain:gef.co')>,\n",
              " <searchconsole.account.WebProperty(url='https://farmaclub.com.co/')>,\n",
              " <searchconsole.account.WebProperty(url='http://m.latinexclusive.com/')>,\n",
              " <searchconsole.account.WebProperty(url='sc-domain:accesoriosyacabados.com')>,\n",
              " <searchconsole.account.WebProperty(url='sc-domain:latinexclusive.com')>,\n",
              " <searchconsole.account.WebProperty(url='sc-domain:lorenacorrea.co')>,\n",
              " <searchconsole.account.WebProperty(url='sc-domain:puntoblanco.co')>,\n",
              " <searchconsole.account.WebProperty(url='sc-domain:flowersandservices.com')>,\n",
              " <searchconsole.account.WebProperty(url='sc-domain:bitmoney.co')>,\n",
              " <searchconsole.account.WebProperty(url='sc-domain:luegopago.com')>,\n",
              " <searchconsole.account.WebProperty(url='sc-domain:flamingo.com.co')>,\n",
              " <searchconsole.account.WebProperty(url='https://criptoaldia.com/')>,\n",
              " <searchconsole.account.WebProperty(url='sc-domain:galax.co')>,\n",
              " <searchconsole.account.WebProperty(url='sc-domain:m.latinexclusive.com')>,\n",
              " <searchconsole.account.WebProperty(url='https://www.soatmundial.com.co/')>,\n",
              " <searchconsole.account.WebProperty(url='https://gef.co/')>,\n",
              " <searchconsole.account.WebProperty(url='sc-domain:flashy.com.co')>,\n",
              " <searchconsole.account.WebProperty(url='https://www.seguropeludo.com.co/')>,\n",
              " <searchconsole.account.WebProperty(url='sc-domain:vecindario.com')>,\n",
              " <searchconsole.account.WebProperty(url='sc-domain:qa.tienda-sportfitness.com')>,\n",
              " <searchconsole.account.WebProperty(url='https://www.tennis.com.ec/')>,\n",
              " <searchconsole.account.WebProperty(url='sc-domain:buy.encriptados.io')>,\n",
              " <searchconsole.account.WebProperty(url='sc-domain:tienda-sportfitness.com')>,\n",
              " <searchconsole.account.WebProperty(url='sc-domain:vecindariosuite.com')>,\n",
              " <searchconsole.account.WebProperty(url='https://www.xtresmedia.com/')>,\n",
              " <searchconsole.account.WebProperty(url='sc-domain:ccoins.io')>,\n",
              " <searchconsole.account.WebProperty(url='sc-domain:flowermail.com')>,\n",
              " <searchconsole.account.WebProperty(url='http://beta.vibra.fm/')>,\n",
              " <searchconsole.account.WebProperty(url='http://pacifista.tv/')>,\n",
              " <searchconsole.account.WebProperty(url='sc-domain:asistencia.app')>,\n",
              " <searchconsole.account.WebProperty(url='https://int.mercedessalazar.com/')>,\n",
              " <searchconsole.account.WebProperty(url='https://www.megaacademy.io/')>,\n",
              " <searchconsole.account.WebProperty(url='http://admin-beta.vibra.fm/')>,\n",
              " <searchconsole.account.WebProperty(url='https://flowersandservices.com/')>,\n",
              " <searchconsole.account.WebProperty(url='https://www.eltiempo.com/')>,\n",
              " <searchconsole.account.WebProperty(url='https://jorgejaramillo.com/')>,\n",
              " <searchconsole.account.WebProperty(url='https://lorenacorrea.co/')>,\n",
              " <searchconsole.account.WebProperty(url='https://qa3-dot-web-farmatodo.appspot.com/')>,\n",
              " <searchconsole.account.WebProperty(url='https://www.tennis.com.co/')>,\n",
              " <searchconsole.account.WebProperty(url='http://blogs.eltiempo.com/')>,\n",
              " <searchconsole.account.WebProperty(url='https://okolo.com.co/')>,\n",
              " <searchconsole.account.WebProperty(url='https://www.bitmoney.co/')>,\n",
              " <searchconsole.account.WebProperty(url='https://cyberesencial.com.co/')>,\n",
              " <searchconsole.account.WebProperty(url='https://soatmundial.com.co/')>,\n",
              " <searchconsole.account.WebProperty(url='https://larazon.co/')>,\n",
              " <searchconsole.account.WebProperty(url='sc-domain:mdalatam.university')>,\n",
              " <searchconsole.account.WebProperty(url='https://tienda-sportfitness.com/')>,\n",
              " <searchconsole.account.WebProperty(url='sc-domain:babyfresh.co')>,\n",
              " <searchconsole.account.WebProperty(url='https://m.latinexclusive.com/')>,\n",
              " <searchconsole.account.WebProperty(url='https://nearby.florist/')>,\n",
              " <searchconsole.account.WebProperty(url='http://flamingo.com.co/')>,\n",
              " <searchconsole.account.WebProperty(url='https://www.floresyservicios.com/')>,\n",
              " <searchconsole.account.WebProperty(url='https://mdalatam.university/')>,\n",
              " <searchconsole.account.WebProperty(url='https://www.gef.com.co/')>,\n",
              " <searchconsole.account.WebProperty(url='https://www.vivaonline.com.co/')>,\n",
              " <searchconsole.account.WebProperty(url='https://www.galax.co/')>,\n",
              " <searchconsole.account.WebProperty(url='sc-domain:cambiocolombia.com')>,\n",
              " <searchconsole.account.WebProperty(url='sc-domain:jorgejaramillo.com')>,\n",
              " <searchconsole.account.WebProperty(url='https://accesoriosyacabados.com/')>,\n",
              " <searchconsole.account.WebProperty(url='sc-domain:rentacarmedellin.co')>,\n",
              " <searchconsole.account.WebProperty(url='http://latinexclusive.com/')>,\n",
              " <searchconsole.account.WebProperty(url='https://datosestructurados.jorgejaramillo.com/')>,\n",
              " <searchconsole.account.WebProperty(url='https://beta.vibra.fm/')>,\n",
              " <searchconsole.account.WebProperty(url='http://www.flamingo.com.co/')>,\n",
              " <searchconsole.account.WebProperty(url='http://www.jorgejaramillo.com/')>,\n",
              " <searchconsole.account.WebProperty(url='https://flowermail.com/')>,\n",
              " <searchconsole.account.WebProperty(url='sc-domain:true.shop')>,\n",
              " <searchconsole.account.WebProperty(url='http://www.floresyservicios.com/')>]"
            ]
          },
          "metadata": {},
          "execution_count": 5
        }
      ]
    },
    {
      "cell_type": "code",
      "source": [
        "# seleccionar una propiedad\n",
        "webproperty = account['https://www.soatmundial.com.co/']"
      ],
      "metadata": {
        "id": "Se9ykWytbgyi"
      },
      "execution_count": 6,
      "outputs": []
    },
    {
      "cell_type": "code",
      "source": [
        "# query de la fecha\n",
        "report = webproperty.query.range('today',days=-120).dimension('page').get().to_dataframe()"
      ],
      "metadata": {
        "id": "M_-BCGaibssQ"
      },
      "execution_count": 7,
      "outputs": []
    },
    {
      "cell_type": "code",
      "source": [
        "report.to_csv(r'reporte.csv', index=False, header=True)"
      ],
      "metadata": {
        "id": "-LgKD-kwcGHk"
      },
      "execution_count": 8,
      "outputs": []
    }
  ]
}