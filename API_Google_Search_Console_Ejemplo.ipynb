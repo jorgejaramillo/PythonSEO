{
  "nbformat": 4,
  "nbformat_minor": 0,
  "metadata": {
    "colab": {
      "name": "API Google Search Console - Ejemplo",
      "provenance": [],
      "collapsed_sections": [],
      "authorship_tag": "ABX9TyOMxWC2CbrOhwYS7ttQ80pA",
      "include_colab_link": true
    },
    "kernelspec": {
      "name": "python3",
      "display_name": "Python 3"
    },
    "language_info": {
      "name": "python"
    }
  },
  "cells": [
    {
      "cell_type": "markdown",
      "metadata": {
        "id": "view-in-github",
        "colab_type": "text"
      },
      "source": [
        "<a href=\"https://colab.research.google.com/github/jorgejaramillo/PythonSEO/blob/master/API_Google_Search_Console_Ejemplo.ipynb\" target=\"_parent\"><img src=\"https://colab.research.google.com/assets/colab-badge.svg\" alt=\"Open In Colab\"/></a>"
      ]
    },
    {
      "cell_type": "markdown",
      "source": [
        "Instrucciones: https://jorgejaramillo.com/api-google-search-console-python/\n"
      ],
      "metadata": {
        "id": "UbVa_WCdgcH3"
      }
    },
    {
      "cell_type": "code",
      "execution_count": null,
      "metadata": {
        "id": "NGuUUlwrZ5ho"
      },
      "outputs": [],
      "source": [
        "!pip install git+https://github.com/joshcarty/google-searchconsole"
      ]
    },
    {
      "cell_type": "code",
      "source": [
        "# Librerias utilizadas \n",
        "\n",
        "import searchconsole\n",
        "import pandas as pd\n",
        "import numpy as np\n",
        "from datetime import datetime\n",
        "from datetime import timedelta\n",
        "import calendar"
      ],
      "metadata": {
        "id": "RurrJae8Z_zV"
      },
      "execution_count": null,
      "outputs": []
    },
    {
      "cell_type": "code",
      "source": [
        "# de donde leemos los archivos\n",
        "\n",
        "from google.colab import drive\n",
        "drive.mount('/content/drive')"
      ],
      "metadata": {
        "colab": {
          "base_uri": "https://localhost:8080/"
        },
        "id": "-wvB7d-8aS9C",
        "outputId": "8a6b934e-22c0-4180-d4fe-5073bf1a78c8"
      },
      "execution_count": null,
      "outputs": [
        {
          "output_type": "stream",
          "name": "stdout",
          "text": [
            "Mounted at /content/drive\n"
          ]
        }
      ]
    },
    {
      "cell_type": "code",
      "source": [
        "# nos conectamos\n",
        "try:\n",
        "  account = searchconsole.authenticate(flow=\"console\", client_config='/content/drive/MyDrive/API/test-client_secret_289093706113-7eqp7p21ss4v86ta9ve1gk0g5l27fkm8.apps.googleusercontent.com.json', credentials='/content/drive/MyDrive/API/test-client_secret_289093706113-7eqp7p21ss4v86ta9ve1gk0g5l27fkm8.apps.googleusercontent.com.json')\n",
        "except: \n",
        "  account = searchconsole.authenticate(flow=\"console\", client_config='/content/drive/MyDrive/API/test-client_secret_289093706113-7eqp7p21ss4v86ta9ve1gk0g5l27fkm8.apps.googleusercontent.com.json', serialize='/content/drive/MyDrive/API/test-client_secret_289093706113-7eqp7p21ss4v86ta9ve1gk0g5l27fkm8.apps.googleusercontent.com.json')"
      ],
      "metadata": {
        "id": "thvKxmgXaoim"
      },
      "execution_count": null,
      "outputs": []
    },
    {
      "cell_type": "code",
      "source": [
        "# ver propiedades en GSC\n",
        "account.webproperties"
      ],
      "metadata": {
        "id": "EzRHSUSYbdFH"
      },
      "execution_count": null,
      "outputs": []
    },
    {
      "cell_type": "code",
      "source": [
        "# seleccionar una propiedad\n",
        "webproperty = account['https://ejemplo.com/']"
      ],
      "metadata": {
        "id": "Se9ykWytbgyi"
      },
      "execution_count": null,
      "outputs": []
    },
    {
      "cell_type": "code",
      "source": [
        "# query de la fecha\n",
        "report = webproperty.query.range('today',days=-120).dimension('page').get().to_dataframe()"
      ],
      "metadata": {
        "id": "M_-BCGaibssQ"
      },
      "execution_count": null,
      "outputs": []
    },
    {
      "cell_type": "code",
      "source": [
        "report.to_csv(r'reporte.csv', index=False, header=True)"
      ],
      "metadata": {
        "id": "-LgKD-kwcGHk"
      },
      "execution_count": null,
      "outputs": []
    }
  ]
}